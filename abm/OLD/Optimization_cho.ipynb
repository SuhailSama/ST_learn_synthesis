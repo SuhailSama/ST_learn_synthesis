{
 "cells": [
  {
   "cell_type": "code",
   "execution_count": 11,
   "id": "7b14d345",
   "metadata": {},
   "outputs": [
    {
     "name": "stdout",
     "output_type": "stream",
     "text": [
      "/storage/coda1/p-mkemp6/0/salsalehi3/Organoid_Suhail/simulations/sim 64 \n",
      "2.4.1\n"
     ]
    }
   ],
   "source": [
    "import random \n",
    "import numpy as np \n",
    "import sys\n",
    "import os\n",
    "sys.path.insert(0, 'src')\n",
    "import matplotlib.pyplot as plt\n",
    "import importlib\n",
    "import platform\n",
    "import subprocess\n",
    "import pickle\n",
    "from os.path import exists\n",
    "import csv\n",
    "\n",
    "\n",
    "# stl stuff for creating stl formulae and calculating robustness\n",
    "import torch\n",
    "\n",
    "if torch.cuda.is_available():  \n",
    "  dev = \"cuda:0\" \n",
    "else:  \n",
    "  dev = \"cpu\" \n",
    "device = torch.device(dev)\n",
    "\n",
    "import stlcg\n",
    "# import stlviz as viz\n",
    "from stlcg.stlcg import Expression\n",
    "from stlcg.utils import print_learning_progress\n",
    "\n",
    "\n",
    "# for clustering, dimension reduction, feature selection\n",
    "from sklearn.cluster import KMeans\n",
    "from sklearn.decomposition import PCA\n",
    "from sklearn.discriminant_analysis import LinearDiscriminantAnalysis as LDA\n",
    "from sklearn.feature_selection import SelectKBest\n",
    "from sklearn.feature_selection import chi2\n",
    "from sklearn.feature_selection import SelectPercentile, chi2\n",
    "from sklearn.model_selection import cross_val_score\n",
    "from sklearn.pipeline import Pipeline\n",
    "from sklearn.preprocessing import StandardScaler\n",
    "from sklearn.svm import SVC\n",
    "from sklearn import svm\n",
    "from sklearn import metrics\n",
    "from sklearn.model_selection import cross_val_score\n",
    "from sklearn.model_selection import train_test_split\n",
    "from sklearn.multiclass import OneVsRestClassifier\n",
    "from random import randint\n",
    "import pandas as pd\n",
    "import pickle\n",
    "import time\n",
    "import timeit\n",
    "import scipy\n",
    "from mpl_toolkits.mplot3d import Axes3D\n",
    "import regex\n",
    "from scipy.io import savemat\n",
    "print(os.getcwd())\n",
    "%matplotlib inline\n",
    "\n",
    "# #concurrent stuff (didn't work due to morpheus structure)\n",
    "# from concurrent.futures import ProcessPoolExecutor\n",
    "# from multiprocessing import Pool\n",
    "# import ray\n",
    "# from dask.distributed import Client\n",
    "# from joblib import Parallel, delayed\n",
    "# keras stuff for image processing \n",
    "from keras.preprocessing.image import load_img \n",
    "from keras.preprocessing.image import img_to_array \n",
    "from keras.applications.vgg16 import preprocess_input \n",
    "from keras.models import Model\n",
    "import tensorflow as tf\n",
    "print(tf.__version__)\n",
    "# print(torch.cuda.get_device_name(0))"
   ]
  },
  {
   "cell_type": "code",
   "execution_count": 12,
   "id": "3587abe2",
   "metadata": {
    "scrolled": true
   },
   "outputs": [
    {
     "name": "stderr",
     "output_type": "stream",
     "text": [
      "/storage/home/hcoda1/5/salsalehi3/.conda/envs/organoid/lib/python3.9/site-packages/sklearn/base.py:310: UserWarning: Trying to unpickle estimator SVC from version 0.24.1 when using version 0.24.2. This might lead to breaking code or invalid results. Use at your own risk.\n",
      "  warnings.warn(\n"
     ]
    }
   ],
   "source": [
    "# Load necessary models and directories\n",
    "# CNN model\n",
    "from keras.applications.vgg16 import VGG16 \n",
    "CNN_model = VGG16()\n",
    "CNN_model = Model(inputs = CNN_model.inputs, outputs = CNN_model.layers[-2].output)\n",
    "\n",
    "# SVM model\n",
    "pkl_filename = r'/storage/coda1/p-mkemp6/0/salsalehi3/Organoid_Suhail/spatial_classifiers_ovr_red.pkl'\n",
    "SVM_model = pickle.load(open(pkl_filename, 'rb'))\n",
    "\n",
    "# indecies of selected features\n",
    "pkl_filename = r\"/storage/coda1/p-mkemp6/0/salsalehi3/Organoid_Suhail/selected_features.pkl\"\n",
    "selected_features = pickle.load(open(pkl_filename, 'rb'))"
   ]
  },
  {
   "cell_type": "code",
   "execution_count": 13,
   "id": "fb165e57",
   "metadata": {},
   "outputs": [],
   "source": [
    "# define PSO particles and search space, fitness function \n",
    "class Particle():\n",
    "    def __init__(self):\n",
    "        self.position = np.random.uniform(-10, 10,(4,1)) # initialization\n",
    "        self.pbest_position = self.position\n",
    "        self.pbest_value = - float('inf')\n",
    "        self.velocity = np.zeros((4,1))\n",
    "        self.id = None\n",
    "        \n",
    "    def __str__(self):\n",
    "        return #print(\"I am at \", self.position, \" meu pbest is \", self.pbest_position)\n",
    "    \n",
    "    def move(self):\n",
    "        self.position = self.position + self.velocity\n",
    "        \n",
    "class Space():  \n",
    "    def __init__(self, target, target_error, n_particles, simulation_time,CNN_model,SVM_model, selected_features,formula):\n",
    "        self.rn_seed = 1 # for reproducipility\n",
    "        self.sim_id = int(0)\n",
    "        self.simulation_time = simulation_time\n",
    "        self.target = target\n",
    "        self.target_error = target_error\n",
    "        self.n_particles = n_particles\n",
    "        self.particles = []\n",
    "        self.gbest_value = -float('inf')\n",
    "        self.gbest_position = np.random.uniform(-10, 10,(4,1)) #np.array([])\n",
    "        self.n_time_steps = int(self.simulation_time/500+1)\n",
    "        self.traces = []\n",
    "        self.global_best_sim = 0\n",
    "        self.CNN_model = CNN_model\n",
    "        self.SVM_model = SVM_model\n",
    "        self.selected_features = selected_features\n",
    "        self.formula = formula\n",
    "\n",
    "    def print_particles(self):\n",
    "        for particle in self.particles:\n",
    "            particle.__str__()\n",
    "   \n",
    "    def extract_features(self, image, CNN_model):\n",
    "        '''\n",
    "        Extracts features from images using a pretrained CNN \n",
    "        \n",
    "        '''\n",
    "        # load the image as a 224x224 array\n",
    "        img = load_img(image, target_size=(224,224))\n",
    "        # convert from 'PIL.Image.Image' to numpy array\n",
    "        img = np.array(img) \n",
    "        reshaped_img = img.reshape(1,224,224,3) \n",
    "\n",
    "        # prepare image for model\n",
    "        imgx = preprocess_input(reshaped_img)\n",
    "        # get the feature vector\n",
    "        features = CNN_model.predict(imgx, use_multiprocessing=True)\n",
    "        return features\n",
    "    \n",
    "    def extract_trace(self, path_to_images, CNN_model,SVM_model, selected_features):\n",
    "        '''\n",
    "        Stacks spatial features over time into one temporal signal \n",
    "        inputs: \n",
    "        path_to_images: path to folder containing images with time stamp\n",
    "        CNN_model: pretrained CNN model to extract features\n",
    "        SVM_model: pretrained SVM model for spatial classification \n",
    "        selected_features: indecies of selected features (created using logistic regression)\n",
    "        '''\n",
    "        os.chdir(path_to_images)\n",
    "        images = []\n",
    "        while not images:\n",
    "            with os.scandir(path_to_images) as files:\n",
    "              # loops through each file in the directory\n",
    "                for file in files:\n",
    "                    if file.name.endswith('.png'): #or file.name.endswith('.jpg'):\n",
    "                      # adds only the image files to the images list\n",
    "                        images.append(file.name)\n",
    "\n",
    "        dic_img = {}\n",
    "        p = r\"dump\"\n",
    "        labels = []\n",
    "        # loop through each image in the dataset\n",
    "        only_class_labels = []\n",
    "        for index, image in enumerate (sorted(images)):\n",
    "            if index>=45:\n",
    "                break\n",
    "            # try to extract the features and update the dictionary\n",
    "            image_name= os.path.splitext(image)[0]\n",
    "        for ii in range(10): \n",
    "            try:\n",
    "                feat = self.extract_features(image,CNN_model)\n",
    "                feat = feat[:,selected_features]\n",
    "                label = SVM_model.predict(feat.reshape(1,-1))\n",
    "                arr = SVM_model.decision_function(feat.reshape(1,-1)).reshape(1,-1)\n",
    "\n",
    "                if index ==0 :\n",
    "                    traj_dist = arr\n",
    "                else:\n",
    "                    print(\"index > 0\")\n",
    "                    traj_dist = np.concatenate((traj_dist, arr), axis = 0)\n",
    "\n",
    "                labels.append(int(label[0]))\n",
    "                break\n",
    "\n",
    "            except Exception as e: \n",
    "                print(e)\n",
    "                print('failed')\n",
    "                with open(p,'wb') as file:\n",
    "                    pickle.dump(images,file)\n",
    "                    \n",
    "        # get a list of the filenames\n",
    "        filenames = np.array(list(dic_img.keys()))\n",
    "        labels =np.array(labels)\n",
    "        return traj_dist, labels\n",
    "    \n",
    "    def convert_imgs_to_traces(self, paths_to_simulations):\n",
    "        first_time = True\n",
    "        for path_to_images in paths_to_simulations:\n",
    "            spatio_temp, labels = self.extract_trace(path_to_images, self.CNN_model,self.SVM_model, self.selected_features)\n",
    "            spatio_temp= np.expand_dims(spatio_temp, axis=0)\n",
    "            if first_time:\n",
    "                self.traces = spatio_temp\n",
    "                self.traces_labels = labels\n",
    "                first_time = False\n",
    "            else:\n",
    "                self.traces = np.concatenate((self.traces, spatio_temp), axis = 0)\n",
    "                self.traces_labels = np.concatenate((self.traces_labels, labels), axis = 0)\n",
    "            \n",
    "    def fitness(self, particle_id): # compute robustness\n",
    "        spatio_temp = self.traces[particle_id]\n",
    "        # Calculating STL robustness\n",
    "        # spatio_temp has time in axis =0 and signal in axis =1\n",
    "        x1= torch.tensor(spatio_temp[:,0].reshape([1, -1, 1]), requires_grad=False).float()\n",
    "        x2= torch.tensor(spatio_temp[:,1].reshape([1, -1, 1]), requires_grad=False).float()\n",
    "#         x3= torch.tensor(spatio_temp[:,2].reshape([1, -1, 1]), requires_grad=False)\n",
    "#         x4= torch.tensor(spatio_temp[:,3].reshape([1, -1, 1]), requires_grad=False)\n",
    "#         x5= torch.tensor(spatio_temp[:,4].reshape([1, -1, 1]), requires_grad=False)\n",
    "        signal = (x1,x2)\n",
    "        \n",
    "        #calculate robustness\n",
    "        robustness = formula.robustness(signal, scale=0.5)\n",
    "        return robustness.item()    \n",
    "                \n",
    "    def create_simulation_folder(self,sim_id):\n",
    "        return r'/storage/coda1/p-mkemp6/0/salsalehi3/Organoid_Suhail/simulations/sim %s ' % int(sim_id)\n",
    "        \n",
    "    def set_pbest(self):\n",
    "        # Serial processing\n",
    "        for ind, particle in enumerate(self.particles):\n",
    "            particle.id = int(self.sim_id%self.n_particles)\n",
    "            row = np.append(particle.position,np.array(self.sim_id).astype(int).reshape(1,1), axis=0)\n",
    "            if ind == 0:\n",
    "                data = row\n",
    "            else:\n",
    "                data = np.append(data,row, axis =1)\n",
    "            self.sim_id += 1\n",
    "        data = data.transpose()\n",
    "        paths_to_simulations = [self.create_simulation_folder(x[4]) for x in data]\n",
    "        path_to_run_sim = r\"/storage/coda1/p-mkemp6/0/salsalehi3/Organoid_Suhail/\"\n",
    "        os.chdir(path_to_run_sim)\n",
    "        myfile = \"test%s.jobs\" %self.sim_id\n",
    "        if not os.path.exists(myfile):\n",
    "            f= open(myfile,\"x\")\n",
    "        f= open(myfile,\"w\")\n",
    "        for x in data:\n",
    "            x= np.round(x,2)\n",
    "            run_file = 'python MorpheusSetup.py \\\" %s \" \" %s \" \" %s \" \" %s \" \" %s \" \" %s \" \" %s \"\\r\\n' % ( \\\n",
    "                str(x[0]),str(x[1]),str(x[2]),str(x[3]),\\\n",
    "                str(self.rn_seed),str(int(x[4])),str(self.simulation_time))\n",
    "            f.write(run_file)\n",
    "            os.system(run_file) # run in comand line (NOT parallel jobs)\n",
    "        f.close()\n",
    "#         print('finished writing to file')\n",
    "#         terminal_command = \"pace-gnu-job -G \" +myfile+\" -q embers -A GT-mkemp6\"\n",
    "#         print(\"Terminal command is : \", terminal_command )\n",
    "#         os.system(terminal_command)\n",
    "        for sim_folder in paths_to_simulations:\n",
    "            while not os.path.isdir(sim_folder):\n",
    "                print('taking a nap!',sim_folder)\n",
    "                time.sleep(5)\n",
    "            time.sleep(5)\n",
    "#         time.sleep(5)\n",
    "        self.convert_imgs_to_traces(paths_to_simulations)\n",
    "        for particle in self.particles:\n",
    "            fitness_cadidate = self.fitness(particle.id)\n",
    "            if(particle.pbest_value < fitness_cadidate):\n",
    "                particle.pbest_value = fitness_cadidate\n",
    "                particle.pbest_position = particle.position\n",
    "        return fitness_cadidate\n",
    "\n",
    "    def set_gbest(self):\n",
    "        for particle in self.particles:\n",
    "            best_fitness_cadidate = self.fitness(particle.id)\n",
    "            if(self.gbest_value < best_fitness_cadidate):\n",
    "                self.gbest_value = best_fitness_cadidate\n",
    "                self.gbest_position = particle.position\n",
    "                self.global_best_sim = particle.id\n",
    "        return self.gbest_value, self.global_best_sim\n",
    "\n",
    "    def move_particles(self):\n",
    "        w = 0.5\n",
    "        c1 = 0.5\n",
    "        c2 = 0.9\n",
    "        for particle in self.particles:\n",
    "            new_velocity = (w*particle.velocity) + (c1*random.random()) * (particle.pbest_position - particle.position) + \\\n",
    "                            (random.random()*c2) * (self.gbest_position - particle.position)\n",
    "         \n",
    "            particle.velocity = new_velocity\n",
    "            particle.move()"
   ]
  },
  {
   "cell_type": "code",
   "execution_count": 14,
   "id": "035b90ec",
   "metadata": {},
   "outputs": [
    {
     "name": "stdout",
     "output_type": "stream",
     "text": [
      "formula is : ◻ [2, 3]( (x_exp >= input) ∧ (y_exp <= input) )\n"
     ]
    }
   ],
   "source": [
    "## Write the STL formula\n",
    "trace_len = 1\n",
    "x = torch.tensor(np.random.rand(trace_len,1) ).float() \n",
    "y = torch.tensor(np.random.rand(trace_len,1) ).float() \n",
    "# define the stl formula \n",
    "a = torch.as_tensor(0.48).float()\n",
    "b = torch.as_tensor(0.52).float()\n",
    "x_exp = Expression('x_exp',x)\n",
    "y_exp = Expression('y_exp',y)\n",
    "ϕ1 = x_exp >a\n",
    "ϕ2 = y_exp <b\n",
    "formula = stlcg.stlcg.Always(subformula=ϕ1& ϕ2, interval=[2,3])\n",
    "print('formula is :' ,formula)\n",
    "#visualize the formula\n",
    "# viz.make_stl_graph(formula)\n"
   ]
  },
  {
   "cell_type": "code",
   "execution_count": 15,
   "id": "6d85c225",
   "metadata": {},
   "outputs": [
    {
     "name": "stderr",
     "output_type": "stream",
     "text": [
      "/bin/sh: line 1: 177265 Segmentation fault      singularity exec /usr/local/pace-apps/manual/packages/singularity_images/morpheus-2.2.0.sif morpheus -file morpheus_EP_2020_nov.xml > model_output.txt 2>&1\n",
      "sh: line 1: 177319 Segmentation fault      singularity exec /usr/local/pace-apps/manual/packages/singularity_images/morpheus-2.2.0.sif morpheus -file morpheus_EP_2020_nov.xml > model_output.txt 2>&1\n"
     ]
    },
    {
     "name": "stdout",
     "output_type": "stream",
     "text": [
      "simulations/sim 0 \n",
      "Finished simulation successfully\n",
      "--- 2.347062826156616 seconds ---\n",
      "simulations/sim 1 \n",
      "Finished simulation successfully\n",
      "--- 3.0929880142211914 seconds ---\n",
      "simulations/sim 2 \n",
      "Finished simulation successfully\n",
      "--- 3.1302084922790527 seconds ---\n"
     ]
    },
    {
     "name": "stderr",
     "output_type": "stream",
     "text": [
      "sh: line 1: 177636 Segmentation fault      singularity exec /usr/local/pace-apps/manual/packages/singularity_images/morpheus-2.2.0.sif morpheus -file morpheus_EP_2020_nov.xml > model_output.txt 2>&1\n"
     ]
    },
    {
     "name": "stdout",
     "output_type": "stream",
     "text": [
      "simulations/sim 3 \n",
      "Finished simulation successfully\n",
      "--- 2.1803207397460938 seconds ---\n",
      "simulations/sim 4 \n",
      "Finished simulation successfully\n",
      "--- 3.1163530349731445 seconds ---\n",
      "Iteration # 0 run time =  55.45506000518799 ,global best solution:  -3.431396484375 from sim 0\n",
      "simulations/sim 5 \n",
      "Finished simulation successfully\n",
      "--- 3.1100661754608154 seconds ---\n",
      "simulations/sim 6 \n",
      "Finished simulation successfully\n",
      "--- 3.132307767868042 seconds ---\n",
      "simulations/sim 7 \n",
      "Finished simulation successfully\n",
      "--- 3.11897349357605 seconds ---\n"
     ]
    },
    {
     "name": "stderr",
     "output_type": "stream",
     "text": [
      "sh: line 1: 178240 Segmentation fault      singularity exec /usr/local/pace-apps/manual/packages/singularity_images/morpheus-2.2.0.sif morpheus -file morpheus_EP_2020_nov.xml > model_output.txt 2>&1\n"
     ]
    },
    {
     "name": "stdout",
     "output_type": "stream",
     "text": [
      "simulations/sim 8 \n",
      "Finished simulation successfully\n",
      "--- 2.6552047729492188 seconds ---\n",
      "simulations/sim 9 \n",
      "Finished simulation successfully\n",
      "--- 3.1019272804260254 seconds ---\n",
      "Iteration # 1 run time =  42.73004150390625 ,global best solution:  -3.431396484375 from sim 0\n",
      "simulations/sim 10 \n",
      "Finished simulation successfully\n",
      "--- 3.1371233463287354 seconds ---\n",
      "simulations/sim 11 \n",
      "Finished simulation successfully\n",
      "--- 3.1099724769592285 seconds ---\n",
      "simulations/sim 12 \n",
      "Finished simulation successfully\n",
      "--- 3.107515573501587 seconds ---\n",
      "simulations/sim 13 \n",
      "Finished simulation successfully\n",
      "--- 3.1336402893066406 seconds ---\n"
     ]
    },
    {
     "name": "stderr",
     "output_type": "stream",
     "text": [
      "sh: line 1: 178922 Segmentation fault      singularity exec /usr/local/pace-apps/manual/packages/singularity_images/morpheus-2.2.0.sif morpheus -file morpheus_EP_2020_nov.xml > model_output.txt 2>&1\n"
     ]
    },
    {
     "name": "stdout",
     "output_type": "stream",
     "text": [
      "simulations/sim 14 \n",
      "Finished simulation successfully\n",
      "--- 2.690256357192993 seconds ---\n",
      "Iteration # 2 run time =  42.58462190628052 ,global best solution:  -3.431396484375 from sim 0\n",
      "simulations/sim 15 \n",
      "Finished simulation successfully\n",
      "--- 3.1124014854431152 seconds ---\n",
      "simulations/sim 16 \n",
      "Finished simulation successfully\n",
      "--- 3.115361452102661 seconds ---\n",
      "simulations/sim 17 \n",
      "Finished simulation successfully\n",
      "--- 3.1196329593658447 seconds ---\n",
      "simulations/sim 18 \n",
      "Finished simulation successfully\n",
      "--- 3.1192824840545654 seconds ---\n",
      "simulations/sim 19 \n",
      "Finished simulation successfully\n",
      "--- 3.1234891414642334 seconds ---\n",
      "Iteration # 3 run time =  43.110469818115234 ,global best solution:  -3.431396484375 from sim 0\n"
     ]
    },
    {
     "name": "stderr",
     "output_type": "stream",
     "text": [
      "sh: line 1: 179689 Segmentation fault      singularity exec /usr/local/pace-apps/manual/packages/singularity_images/morpheus-2.2.0.sif morpheus -file morpheus_EP_2020_nov.xml > model_output.txt 2>&1\n"
     ]
    },
    {
     "name": "stdout",
     "output_type": "stream",
     "text": [
      "simulations/sim 20 \n",
      "Finished simulation successfully\n",
      "--- 2.6617801189422607 seconds ---\n"
     ]
    },
    {
     "name": "stderr",
     "output_type": "stream",
     "text": [
      "/bin/sh: line 1: 179742 Segmentation fault      singularity exec /usr/local/pace-apps/manual/packages/singularity_images/morpheus-2.2.0.sif morpheus -file morpheus_EP_2020_nov.xml > model_output.txt 2>&1\n"
     ]
    },
    {
     "name": "stdout",
     "output_type": "stream",
     "text": [
      "simulations/sim 21 \n",
      "Finished simulation successfully\n",
      "--- 2.6883766651153564 seconds ---\n",
      "simulations/sim 22 \n",
      "Finished simulation successfully\n",
      "--- 3.112992525100708 seconds ---\n",
      "simulations/sim 23 \n",
      "Finished simulation successfully\n",
      "--- 3.1915712356567383 seconds ---\n",
      "simulations/sim 24 \n",
      "Finished simulation successfully\n",
      "--- 3.133436918258667 seconds ---\n",
      "Iteration # 4 run time =  42.302961587905884 ,global best solution:  -3.431396484375 from sim 0\n"
     ]
    },
    {
     "name": "stderr",
     "output_type": "stream",
     "text": [
      "sh: line 1: 180281 Segmentation fault      singularity exec /usr/local/pace-apps/manual/packages/singularity_images/morpheus-2.2.0.sif morpheus -file morpheus_EP_2020_nov.xml > model_output.txt 2>&1\n"
     ]
    },
    {
     "name": "stdout",
     "output_type": "stream",
     "text": [
      "simulations/sim 25 \n",
      "Finished simulation successfully\n",
      "--- 2.8463692665100098 seconds ---\n"
     ]
    },
    {
     "name": "stderr",
     "output_type": "stream",
     "text": [
      "/bin/sh: line 1: 180372 Segmentation fault      singularity exec /usr/local/pace-apps/manual/packages/singularity_images/morpheus-2.2.0.sif morpheus -file morpheus_EP_2020_nov.xml > model_output.txt 2>&1\n"
     ]
    },
    {
     "name": "stdout",
     "output_type": "stream",
     "text": [
      "simulations/sim 26 \n",
      "Finished simulation successfully\n",
      "--- 2.7700493335723877 seconds ---\n",
      "simulations/sim 27 \n",
      "Finished simulation successfully\n",
      "--- 2.618943691253662 seconds ---\n",
      "simulations/sim 28 \n",
      "Finished simulation successfully\n",
      "--- 3.1143269538879395 seconds ---\n"
     ]
    },
    {
     "name": "stderr",
     "output_type": "stream",
     "text": [
      "/bin/sh: line 1: 180832 Segmentation fault      singularity exec /usr/local/pace-apps/manual/packages/singularity_images/morpheus-2.2.0.sif morpheus -file morpheus_EP_2020_nov.xml > model_output.txt 2>&1\n"
     ]
    },
    {
     "name": "stdout",
     "output_type": "stream",
     "text": [
      "simulations/sim 29 \n",
      "Finished simulation successfully\n",
      "--- 2.671941041946411 seconds ---\n",
      "Iteration # 5 run time =  41.5806827545166 ,global best solution:  -3.431396484375 from sim 0\n"
     ]
    },
    {
     "name": "stderr",
     "output_type": "stream",
     "text": [
      "sh: line 1: 181307 Segmentation fault      singularity exec /usr/local/pace-apps/manual/packages/singularity_images/morpheus-2.2.0.sif morpheus -file morpheus_EP_2020_nov.xml > model_output.txt 2>&1\n"
     ]
    },
    {
     "name": "stdout",
     "output_type": "stream",
     "text": [
      "simulations/sim 30 \n",
      "Finished simulation successfully\n",
      "--- 2.701176881790161 seconds ---\n",
      "simulations/sim 31 \n",
      "Finished simulation successfully\n",
      "--- 3.1163361072540283 seconds ---\n",
      "simulations/sim 32 \n",
      "Finished simulation successfully\n",
      "--- 3.154073715209961 seconds ---\n",
      "simulations/sim 33 \n",
      "Finished simulation successfully\n",
      "--- 3.1184325218200684 seconds ---\n",
      "simulations/sim 34 \n",
      "Finished simulation successfully\n",
      "--- 3.1219100952148438 seconds ---\n",
      "Iteration # 6 run time =  42.65416598320007 ,global best solution:  -3.431396484375 from sim 0\n"
     ]
    },
    {
     "name": "stderr",
     "output_type": "stream",
     "text": [
      "/bin/sh: line 1: 181851 Segmentation fault      singularity exec /usr/local/pace-apps/manual/packages/singularity_images/morpheus-2.2.0.sif morpheus -file morpheus_EP_2020_nov.xml > model_output.txt 2>&1\n",
      "sh: line 1: 181903 Segmentation fault      singularity exec /usr/local/pace-apps/manual/packages/singularity_images/morpheus-2.2.0.sif morpheus -file morpheus_EP_2020_nov.xml > model_output.txt 2>&1\n"
     ]
    },
    {
     "name": "stdout",
     "output_type": "stream",
     "text": [
      "simulations/sim 35 \n",
      "Finished simulation successfully\n",
      "--- 2.225747585296631 seconds ---\n"
     ]
    },
    {
     "name": "stderr",
     "output_type": "stream",
     "text": [
      "sh: line 1: 182009 Segmentation fault      singularity exec /usr/local/pace-apps/manual/packages/singularity_images/morpheus-2.2.0.sif morpheus -file morpheus_EP_2020_nov.xml > model_output.txt 2>&1\n"
     ]
    },
    {
     "name": "stdout",
     "output_type": "stream",
     "text": [
      "simulations/sim 36 \n",
      "Finished simulation successfully\n",
      "--- 2.6990692615509033 seconds ---\n",
      "simulations/sim 37 \n",
      "Finished simulation successfully\n",
      "--- 3.129517078399658 seconds ---\n",
      "simulations/sim 38 \n",
      "Finished simulation successfully\n",
      "--- 3.1174306869506836 seconds ---\n"
     ]
    },
    {
     "name": "stderr",
     "output_type": "stream",
     "text": [
      "/bin/sh: line 1: 182271 Segmentation fault      singularity exec /usr/local/pace-apps/manual/packages/singularity_images/morpheus-2.2.0.sif morpheus -file morpheus_EP_2020_nov.xml > model_output.txt 2>&1\n",
      "sh: line 1: 182321 Segmentation fault      singularity exec /usr/local/pace-apps/manual/packages/singularity_images/morpheus-2.2.0.sif morpheus -file morpheus_EP_2020_nov.xml > model_output.txt 2>&1\n"
     ]
    },
    {
     "name": "stdout",
     "output_type": "stream",
     "text": [
      "simulations/sim 39 \n",
      "Finished simulation successfully\n",
      "--- 2.258796215057373 seconds ---\n",
      "Iteration # 7 run time =  41.060896158218384 ,global best solution:  -3.431396484375 from sim 0\n",
      "simulations/sim 40 \n",
      "Finished simulation successfully\n",
      "--- 3.121314525604248 seconds ---\n"
     ]
    },
    {
     "name": "stderr",
     "output_type": "stream",
     "text": [
      "/bin/sh: line 1: 182533 Segmentation fault      singularity exec /usr/local/pace-apps/manual/packages/singularity_images/morpheus-2.2.0.sif morpheus -file morpheus_EP_2020_nov.xml > model_output.txt 2>&1\n"
     ]
    },
    {
     "name": "stdout",
     "output_type": "stream",
     "text": [
      "simulations/sim 41 \n",
      "Finished simulation successfully\n",
      "--- 2.6767332553863525 seconds ---\n",
      "simulations/sim 42 \n",
      "Finished simulation successfully\n",
      "--- 3.116899013519287 seconds ---\n"
     ]
    },
    {
     "name": "stderr",
     "output_type": "stream",
     "text": [
      "/bin/sh: line 1: 182741 Segmentation fault      singularity exec /usr/local/pace-apps/manual/packages/singularity_images/morpheus-2.2.0.sif morpheus -file morpheus_EP_2020_nov.xml > model_output.txt 2>&1\n"
     ]
    },
    {
     "name": "stdout",
     "output_type": "stream",
     "text": [
      "simulations/sim 43 \n",
      "Finished simulation successfully\n",
      "--- 2.680943250656128 seconds ---\n",
      "simulations/sim 44 \n",
      "Finished simulation successfully\n",
      "--- 3.1318180561065674 seconds ---\n",
      "Iteration # 8 run time =  42.14877915382385 ,global best solution:  -3.431396484375 from sim 0\n",
      "simulations/sim 45 \n",
      "Finished simulation successfully\n",
      "--- 3.1514384746551514 seconds ---\n"
     ]
    },
    {
     "name": "stderr",
     "output_type": "stream",
     "text": [
      "/bin/sh: line 1: 183102 Segmentation fault      singularity exec /usr/local/pace-apps/manual/packages/singularity_images/morpheus-2.2.0.sif morpheus -file morpheus_EP_2020_nov.xml > model_output.txt 2>&1\n"
     ]
    },
    {
     "name": "stdout",
     "output_type": "stream",
     "text": [
      "simulations/sim 46 \n",
      "Finished simulation successfully\n",
      "--- 2.6457011699676514 seconds ---\n",
      "simulations/sim 47 \n",
      "Finished simulation successfully\n",
      "--- 3.107724905014038 seconds ---\n",
      "simulations/sim 48 \n",
      "Finished simulation successfully\n",
      "--- 3.1396937370300293 seconds ---\n"
     ]
    },
    {
     "name": "stderr",
     "output_type": "stream",
     "text": [
      "sh: line 1: 183595 Segmentation fault      singularity exec /usr/local/pace-apps/manual/packages/singularity_images/morpheus-2.2.0.sif morpheus -file morpheus_EP_2020_nov.xml > model_output.txt 2>&1\n"
     ]
    },
    {
     "name": "stdout",
     "output_type": "stream",
     "text": [
      "simulations/sim 49 \n",
      "Finished simulation successfully\n",
      "--- 2.6770880222320557 seconds ---\n",
      "Iteration # 9 run time =  42.26824235916138 ,global best solution:  -3.431396484375 from sim 0\n",
      "simulations/sim 50 \n",
      "Finished simulation successfully\n",
      "--- 2.643338203430176 seconds ---\n",
      "simulations/sim 51 \n",
      "Finished simulation successfully\n",
      "--- 3.1099326610565186 seconds ---\n",
      "simulations/sim 52 \n",
      "Finished simulation successfully\n",
      "--- 3.1120235919952393 seconds ---\n",
      "simulations/sim 53 \n",
      "Finished simulation successfully\n",
      "--- 3.102342367172241 seconds ---\n"
     ]
    },
    {
     "name": "stderr",
     "output_type": "stream",
     "text": [
      "/bin/sh: line 1: 184134 Segmentation fault      singularity exec /usr/local/pace-apps/manual/packages/singularity_images/morpheus-2.2.0.sif morpheus -file morpheus_EP_2020_nov.xml > model_output.txt 2>&1\n",
      "sh: line 1: 184197 Segmentation fault      singularity exec /usr/local/pace-apps/manual/packages/singularity_images/morpheus-2.2.0.sif morpheus -file morpheus_EP_2020_nov.xml > model_output.txt 2>&1\n"
     ]
    },
    {
     "name": "stdout",
     "output_type": "stream",
     "text": [
      "simulations/sim 54 \n",
      "Finished simulation successfully\n",
      "--- 2.2546892166137695 seconds ---\n",
      "Iteration # 10 run time =  41.64533019065857 ,global best solution:  -3.431396484375 from sim 0\n",
      "simulations/sim 55 \n",
      "Finished simulation successfully\n",
      "--- 3.104447841644287 seconds ---\n",
      "simulations/sim 56 \n",
      "Finished simulation successfully\n",
      "--- 3.1087801456451416 seconds ---\n",
      "simulations/sim 57 \n",
      "Finished simulation successfully\n",
      "--- 3.1526365280151367 seconds ---\n",
      "simulations/sim 58 \n",
      "Finished simulation successfully\n",
      "--- 3.1215310096740723 seconds ---\n"
     ]
    },
    {
     "name": "stderr",
     "output_type": "stream",
     "text": [
      "/bin/sh: line 1: 184762 Segmentation fault      singularity exec /usr/local/pace-apps/manual/packages/singularity_images/morpheus-2.2.0.sif morpheus -file morpheus_EP_2020_nov.xml > model_output.txt 2>&1\n"
     ]
    },
    {
     "name": "stdout",
     "output_type": "stream",
     "text": [
      "simulations/sim 59 \n",
      "Finished simulation successfully\n",
      "--- 2.6786201000213623 seconds ---\n",
      "Iteration # 11 run time =  42.67995476722717 ,global best solution:  -3.431396484375 from sim 0\n",
      "simulations/sim 60 \n",
      "Finished simulation successfully\n",
      "--- 3.127147912979126 seconds ---\n"
     ]
    },
    {
     "name": "stderr",
     "output_type": "stream",
     "text": [
      "sh: line 1: 185111 Segmentation fault      singularity exec /usr/local/pace-apps/manual/packages/singularity_images/morpheus-2.2.0.sif morpheus -file morpheus_EP_2020_nov.xml > model_output.txt 2>&1\n"
     ]
    },
    {
     "name": "stdout",
     "output_type": "stream",
     "text": [
      "simulations/sim 61 \n",
      "Finished simulation successfully\n",
      "--- 2.670311212539673 seconds ---\n"
     ]
    },
    {
     "name": "stderr",
     "output_type": "stream",
     "text": [
      "sh: line 1: 185214 Segmentation fault      singularity exec /usr/local/pace-apps/manual/packages/singularity_images/morpheus-2.2.0.sif morpheus -file morpheus_EP_2020_nov.xml > model_output.txt 2>&1\n"
     ]
    },
    {
     "name": "stdout",
     "output_type": "stream",
     "text": [
      "simulations/sim 62 \n",
      "Finished simulation successfully\n",
      "--- 2.684494733810425 seconds ---\n",
      "simulations/sim 63 \n",
      "Finished simulation successfully\n",
      "--- 3.122457504272461 seconds ---\n",
      "simulations/sim 64 \n",
      "Finished simulation successfully\n",
      "--- 3.148350954055786 seconds ---\n",
      "Iteration # 12 run time =  42.07504725456238 ,global best solution:  -3.431396484375 from sim 0\n"
     ]
    },
    {
     "name": "stderr",
     "output_type": "stream",
     "text": [
      "/bin/sh: line 1: 185528 Segmentation fault      singularity exec /usr/local/pace-apps/manual/packages/singularity_images/morpheus-2.2.0.sif morpheus -file morpheus_EP_2020_nov.xml > model_output.txt 2>&1\n",
      "sh: line 1: 185580 Segmentation fault      singularity exec /usr/local/pace-apps/manual/packages/singularity_images/morpheus-2.2.0.sif morpheus -file morpheus_EP_2020_nov.xml > model_output.txt 2>&1\n"
     ]
    },
    {
     "name": "stdout",
     "output_type": "stream",
     "text": [
      "simulations/sim 65 \n",
      "Finished simulation successfully\n",
      "--- 2.2578012943267822 seconds ---\n"
     ]
    },
    {
     "name": "stderr",
     "output_type": "stream",
     "text": [
      "sh: line 1: 185685 Segmentation fault      singularity exec /usr/local/pace-apps/manual/packages/singularity_images/morpheus-2.2.0.sif morpheus -file morpheus_EP_2020_nov.xml > model_output.txt 2>&1\n"
     ]
    },
    {
     "name": "stdout",
     "output_type": "stream",
     "text": [
      "simulations/sim 66 \n",
      "Finished simulation successfully\n",
      "--- 2.6900365352630615 seconds ---\n",
      "simulations/sim 67 \n",
      "Finished simulation successfully\n",
      "--- 3.0972065925598145 seconds ---\n"
     ]
    },
    {
     "name": "stderr",
     "output_type": "stream",
     "text": [
      "/bin/sh: line 1: 185841 Segmentation fault      singularity exec /usr/local/pace-apps/manual/packages/singularity_images/morpheus-2.2.0.sif morpheus -file morpheus_EP_2020_nov.xml > model_output.txt 2>&1\n"
     ]
    },
    {
     "name": "stdout",
     "output_type": "stream",
     "text": [
      "simulations/sim 68 \n",
      "Finished simulation successfully\n",
      "--- 2.686500310897827 seconds ---\n"
     ]
    },
    {
     "name": "stderr",
     "output_type": "stream",
     "text": [
      "/bin/sh: line 1: 185944 Segmentation fault      singularity exec /usr/local/pace-apps/manual/packages/singularity_images/morpheus-2.2.0.sif morpheus -file morpheus_EP_2020_nov.xml > model_output.txt 2>&1\n"
     ]
    },
    {
     "name": "stdout",
     "output_type": "stream",
     "text": [
      "simulations/sim 69 \n",
      "Finished simulation successfully\n",
      "--- 2.701552391052246 seconds ---\n",
      "Iteration # 13 run time =  40.82177543640137 ,global best solution:  -3.431396484375 from sim 0\n"
     ]
    },
    {
     "name": "stderr",
     "output_type": "stream",
     "text": [
      "/bin/sh: line 1: 186120 Segmentation fault      singularity exec /usr/local/pace-apps/manual/packages/singularity_images/morpheus-2.2.0.sif morpheus -file morpheus_EP_2020_nov.xml > model_output.txt 2>&1\n",
      "sh: line 1: 186172 Segmentation fault      singularity exec /usr/local/pace-apps/manual/packages/singularity_images/morpheus-2.2.0.sif morpheus -file morpheus_EP_2020_nov.xml > model_output.txt 2>&1\n"
     ]
    },
    {
     "name": "stdout",
     "output_type": "stream",
     "text": [
      "simulations/sim 70 \n",
      "Finished simulation successfully\n",
      "--- 2.2343013286590576 seconds ---\n"
     ]
    },
    {
     "name": "stderr",
     "output_type": "stream",
     "text": [
      "/bin/sh: line 1: 186225 Segmentation fault      singularity exec /usr/local/pace-apps/manual/packages/singularity_images/morpheus-2.2.0.sif morpheus -file morpheus_EP_2020_nov.xml > model_output.txt 2>&1\n"
     ]
    },
    {
     "name": "stdout",
     "output_type": "stream",
     "text": [
      "simulations/sim 71 \n",
      "Finished simulation successfully\n",
      "--- 2.689544200897217 seconds ---\n",
      "simulations/sim 72 \n",
      "Finished simulation successfully\n",
      "--- 3.121460199356079 seconds ---\n",
      "simulations/sim 73 \n",
      "Finished simulation successfully\n",
      "--- 3.1095690727233887 seconds ---\n"
     ]
    },
    {
     "name": "stderr",
     "output_type": "stream",
     "text": [
      "/bin/sh: line 1: 186540 Segmentation fault      singularity exec /usr/local/pace-apps/manual/packages/singularity_images/morpheus-2.2.0.sif morpheus -file morpheus_EP_2020_nov.xml > model_output.txt 2>&1\n"
     ]
    },
    {
     "name": "stdout",
     "output_type": "stream",
     "text": [
      "simulations/sim 74 \n",
      "Finished simulation successfully\n",
      "--- 2.6732277870178223 seconds ---\n",
      "cannot identify image file <_io.BytesIO object at 0x2aab9a2fc130>\n",
      "failed\n",
      "cannot identify image file <_io.BytesIO object at 0x2aab9a2fc130>\n",
      "failed\n",
      "cannot identify image file <_io.BytesIO object at 0x2aab9a2fc130>\n",
      "failed\n",
      "cannot identify image file <_io.BytesIO object at 0x2aab9a2fc130>\n",
      "failed\n",
      "cannot identify image file <_io.BytesIO object at 0x2aab9a2fc130>\n",
      "failed\n",
      "cannot identify image file <_io.BytesIO object at 0x2aab9a2fc130>\n",
      "failed\n",
      "cannot identify image file <_io.BytesIO object at 0x2aab9a2fc130>\n",
      "failed\n",
      "cannot identify image file <_io.BytesIO object at 0x2aab9a2fc130>\n",
      "failed\n",
      "cannot identify image file <_io.BytesIO object at 0x2aab9a2fc130>\n",
      "failed\n",
      "cannot identify image file <_io.BytesIO object at 0x2aab9a2fc130>\n",
      "failed\n"
     ]
    },
    {
     "ename": "UnboundLocalError",
     "evalue": "local variable 'traj_dist' referenced before assignment",
     "output_type": "error",
     "traceback": [
      "\u001b[0;31m---------------------------------------------------------------------------\u001b[0m",
      "\u001b[0;31mUnboundLocalError\u001b[0m                         Traceback (most recent call last)",
      "\u001b[0;32m/scratch/4622682.sched-torque.pace.gatech.edu/ipykernel_136294/2611435598.py\u001b[0m in \u001b[0;36m<module>\u001b[0;34m\u001b[0m\n\u001b[1;32m     16\u001b[0m \u001b[0;32mwhile\u001b[0m\u001b[0;34m(\u001b[0m\u001b[0;32mTrue\u001b[0m\u001b[0;34m)\u001b[0m\u001b[0;34m:\u001b[0m\u001b[0;34m\u001b[0m\u001b[0;34m\u001b[0m\u001b[0m\n\u001b[1;32m     17\u001b[0m     \u001b[0miter_time\u001b[0m \u001b[0;34m=\u001b[0m \u001b[0mtime\u001b[0m\u001b[0;34m.\u001b[0m\u001b[0mtime\u001b[0m\u001b[0;34m(\u001b[0m\u001b[0;34m)\u001b[0m\u001b[0;34m\u001b[0m\u001b[0;34m\u001b[0m\u001b[0m\n\u001b[0;32m---> 18\u001b[0;31m     \u001b[0msearch_space\u001b[0m\u001b[0;34m.\u001b[0m\u001b[0mset_pbest\u001b[0m\u001b[0;34m(\u001b[0m\u001b[0;34m)\u001b[0m\u001b[0;34m\u001b[0m\u001b[0;34m\u001b[0m\u001b[0m\n\u001b[0m\u001b[1;32m     19\u001b[0m     \u001b[0mcurrent_best_rob\u001b[0m\u001b[0;34m,\u001b[0m \u001b[0msim_id\u001b[0m \u001b[0;34m=\u001b[0m \u001b[0msearch_space\u001b[0m\u001b[0;34m.\u001b[0m\u001b[0mset_gbest\u001b[0m\u001b[0;34m(\u001b[0m\u001b[0;34m)\u001b[0m\u001b[0;34m\u001b[0m\u001b[0;34m\u001b[0m\u001b[0m\n\u001b[1;32m     20\u001b[0m     \u001b[0;32mif\u001b[0m\u001b[0;34m(\u001b[0m\u001b[0mabs\u001b[0m\u001b[0;34m(\u001b[0m\u001b[0msearch_space\u001b[0m\u001b[0;34m.\u001b[0m\u001b[0mgbest_value\u001b[0m \u001b[0;34m-\u001b[0m \u001b[0msearch_space\u001b[0m\u001b[0;34m.\u001b[0m\u001b[0mtarget\u001b[0m\u001b[0;34m)\u001b[0m \u001b[0;34m<=\u001b[0m \u001b[0msearch_space\u001b[0m\u001b[0;34m.\u001b[0m\u001b[0mtarget_error\u001b[0m\u001b[0;34m)\u001b[0m\u001b[0;34m:\u001b[0m\u001b[0;34m\u001b[0m\u001b[0;34m\u001b[0m\u001b[0m\n",
      "\u001b[0;32m/scratch/4622682.sched-torque.pace.gatech.edu/ipykernel_136294/2620079624.py\u001b[0m in \u001b[0;36mset_pbest\u001b[0;34m(self)\u001b[0m\n\u001b[1;32m    178\u001b[0m             \u001b[0mtime\u001b[0m\u001b[0;34m.\u001b[0m\u001b[0msleep\u001b[0m\u001b[0;34m(\u001b[0m\u001b[0;36m5\u001b[0m\u001b[0;34m)\u001b[0m\u001b[0;34m\u001b[0m\u001b[0;34m\u001b[0m\u001b[0m\n\u001b[1;32m    179\u001b[0m \u001b[0;31m#         time.sleep(5)\u001b[0m\u001b[0;34m\u001b[0m\u001b[0;34m\u001b[0m\u001b[0m\n\u001b[0;32m--> 180\u001b[0;31m         \u001b[0mself\u001b[0m\u001b[0;34m.\u001b[0m\u001b[0mconvert_imgs_to_traces\u001b[0m\u001b[0;34m(\u001b[0m\u001b[0mpaths_to_simulations\u001b[0m\u001b[0;34m)\u001b[0m\u001b[0;34m\u001b[0m\u001b[0;34m\u001b[0m\u001b[0m\n\u001b[0m\u001b[1;32m    181\u001b[0m         \u001b[0;32mfor\u001b[0m \u001b[0mparticle\u001b[0m \u001b[0;32min\u001b[0m \u001b[0mself\u001b[0m\u001b[0;34m.\u001b[0m\u001b[0mparticles\u001b[0m\u001b[0;34m:\u001b[0m\u001b[0;34m\u001b[0m\u001b[0;34m\u001b[0m\u001b[0m\n\u001b[1;32m    182\u001b[0m             \u001b[0mfitness_cadidate\u001b[0m \u001b[0;34m=\u001b[0m \u001b[0mself\u001b[0m\u001b[0;34m.\u001b[0m\u001b[0mfitness\u001b[0m\u001b[0;34m(\u001b[0m\u001b[0mparticle\u001b[0m\u001b[0;34m.\u001b[0m\u001b[0mid\u001b[0m\u001b[0;34m)\u001b[0m\u001b[0;34m\u001b[0m\u001b[0;34m\u001b[0m\u001b[0m\n",
      "\u001b[0;32m/scratch/4622682.sched-torque.pace.gatech.edu/ipykernel_136294/2620079624.py\u001b[0m in \u001b[0;36mconvert_imgs_to_traces\u001b[0;34m(self, paths_to_simulations)\u001b[0m\n\u001b[1;32m    113\u001b[0m         \u001b[0mfirst_time\u001b[0m \u001b[0;34m=\u001b[0m \u001b[0;32mTrue\u001b[0m\u001b[0;34m\u001b[0m\u001b[0;34m\u001b[0m\u001b[0m\n\u001b[1;32m    114\u001b[0m         \u001b[0;32mfor\u001b[0m \u001b[0mpath_to_images\u001b[0m \u001b[0;32min\u001b[0m \u001b[0mpaths_to_simulations\u001b[0m\u001b[0;34m:\u001b[0m\u001b[0;34m\u001b[0m\u001b[0;34m\u001b[0m\u001b[0m\n\u001b[0;32m--> 115\u001b[0;31m             \u001b[0mspatio_temp\u001b[0m\u001b[0;34m,\u001b[0m \u001b[0mlabels\u001b[0m \u001b[0;34m=\u001b[0m \u001b[0mself\u001b[0m\u001b[0;34m.\u001b[0m\u001b[0mextract_trace\u001b[0m\u001b[0;34m(\u001b[0m\u001b[0mpath_to_images\u001b[0m\u001b[0;34m,\u001b[0m \u001b[0mself\u001b[0m\u001b[0;34m.\u001b[0m\u001b[0mCNN_model\u001b[0m\u001b[0;34m,\u001b[0m\u001b[0mself\u001b[0m\u001b[0;34m.\u001b[0m\u001b[0mSVM_model\u001b[0m\u001b[0;34m,\u001b[0m \u001b[0mself\u001b[0m\u001b[0;34m.\u001b[0m\u001b[0mselected_features\u001b[0m\u001b[0;34m)\u001b[0m\u001b[0;34m\u001b[0m\u001b[0;34m\u001b[0m\u001b[0m\n\u001b[0m\u001b[1;32m    116\u001b[0m             \u001b[0mspatio_temp\u001b[0m\u001b[0;34m=\u001b[0m \u001b[0mnp\u001b[0m\u001b[0;34m.\u001b[0m\u001b[0mexpand_dims\u001b[0m\u001b[0;34m(\u001b[0m\u001b[0mspatio_temp\u001b[0m\u001b[0;34m,\u001b[0m \u001b[0maxis\u001b[0m\u001b[0;34m=\u001b[0m\u001b[0;36m0\u001b[0m\u001b[0;34m)\u001b[0m\u001b[0;34m\u001b[0m\u001b[0;34m\u001b[0m\u001b[0m\n\u001b[1;32m    117\u001b[0m             \u001b[0;32mif\u001b[0m \u001b[0mfirst_time\u001b[0m\u001b[0;34m:\u001b[0m\u001b[0;34m\u001b[0m\u001b[0;34m\u001b[0m\u001b[0m\n",
      "\u001b[0;32m/scratch/4622682.sched-torque.pace.gatech.edu/ipykernel_136294/2620079624.py\u001b[0m in \u001b[0;36mextract_trace\u001b[0;34m(self, path_to_images, CNN_model, SVM_model, selected_features)\u001b[0m\n\u001b[1;32m    108\u001b[0m         \u001b[0mfilenames\u001b[0m \u001b[0;34m=\u001b[0m \u001b[0mnp\u001b[0m\u001b[0;34m.\u001b[0m\u001b[0marray\u001b[0m\u001b[0;34m(\u001b[0m\u001b[0mlist\u001b[0m\u001b[0;34m(\u001b[0m\u001b[0mdic_img\u001b[0m\u001b[0;34m.\u001b[0m\u001b[0mkeys\u001b[0m\u001b[0;34m(\u001b[0m\u001b[0;34m)\u001b[0m\u001b[0;34m)\u001b[0m\u001b[0;34m)\u001b[0m\u001b[0;34m\u001b[0m\u001b[0;34m\u001b[0m\u001b[0m\n\u001b[1;32m    109\u001b[0m         \u001b[0mlabels\u001b[0m \u001b[0;34m=\u001b[0m\u001b[0mnp\u001b[0m\u001b[0;34m.\u001b[0m\u001b[0marray\u001b[0m\u001b[0;34m(\u001b[0m\u001b[0mlabels\u001b[0m\u001b[0;34m)\u001b[0m\u001b[0;34m\u001b[0m\u001b[0;34m\u001b[0m\u001b[0m\n\u001b[0;32m--> 110\u001b[0;31m         \u001b[0;32mreturn\u001b[0m \u001b[0mtraj_dist\u001b[0m\u001b[0;34m,\u001b[0m \u001b[0mlabels\u001b[0m\u001b[0;34m\u001b[0m\u001b[0;34m\u001b[0m\u001b[0m\n\u001b[0m\u001b[1;32m    111\u001b[0m \u001b[0;34m\u001b[0m\u001b[0m\n\u001b[1;32m    112\u001b[0m     \u001b[0;32mdef\u001b[0m \u001b[0mconvert_imgs_to_traces\u001b[0m\u001b[0;34m(\u001b[0m\u001b[0mself\u001b[0m\u001b[0;34m,\u001b[0m \u001b[0mpaths_to_simulations\u001b[0m\u001b[0;34m)\u001b[0m\u001b[0;34m:\u001b[0m\u001b[0;34m\u001b[0m\u001b[0;34m\u001b[0m\u001b[0m\n",
      "\u001b[0;31mUnboundLocalError\u001b[0m: local variable 'traj_dist' referenced before assignment"
     ]
    }
   ],
   "source": [
    "##  Main Optimization\n",
    "# set optimization parameters\n",
    "n_iterations = 20    # int(input(\"Inform the number of iterations: \"))\n",
    "target_error = 0.1   # float(input(\"Inform the target error: \"))\n",
    "n_particles = 5      # int(input(\"Inform the number of particles: \"))\n",
    "target = 1           # \n",
    "simulation_time = 500*(trace_len-1)\n",
    "search_space = Space(target, target_error, n_particles, simulation_time,CNN_model,SVM_model, selected_features,formula)\n",
    "particles_vector = [Particle() for _ in range(search_space.n_particles)]\n",
    "search_space.particles = particles_vector\n",
    "search_space.print_particles()\n",
    "\n",
    "#main optimization loop\n",
    "iteration = 0\n",
    "start_time = time.time()\n",
    "while(True):\n",
    "    iter_time = time.time()\n",
    "    search_space.set_pbest()    \n",
    "    current_best_rob, sim_id = search_space.set_gbest()\n",
    "    if(abs(search_space.gbest_value - search_space.target) <= search_space.target_error):\n",
    "        break\n",
    "    print(\"Iteration #\",iteration,\"run time = \" ,(time.time() - iter_time),\",global best solution: \",current_best_rob,\"from sim\",sim_id)\n",
    "    search_space.move_particles()\n",
    "    if iteration < n_iterations:\n",
    "        iteration += 1\n",
    "    else: \n",
    "        break \n",
    "\n",
    "print(\"Total time %s seconds ---\" % (time.time() - start_time))\n",
    "print(\"The best solution is: \", search_space.gbest_position, \" in n_iterations: \", iteration)"
   ]
  },
  {
   "cell_type": "code",
   "execution_count": null,
   "id": "cf50a210",
   "metadata": {},
   "outputs": [],
   "source": []
  }
 ],
 "metadata": {
  "celltoolbar": "Slideshow",
  "kernelspec": {
   "display_name": "Python (organoid)",
   "language": "python",
   "name": "organoid"
  },
  "language_info": {
   "codemirror_mode": {
    "name": "ipython",
    "version": 3
   },
   "file_extension": ".py",
   "mimetype": "text/x-python",
   "name": "python",
   "nbconvert_exporter": "python",
   "pygments_lexer": "ipython3",
   "version": "3.9.7"
  }
 },
 "nbformat": 4,
 "nbformat_minor": 5
}
