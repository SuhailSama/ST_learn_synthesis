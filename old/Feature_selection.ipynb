{
 "cells": [
  {
   "cell_type": "code",
   "execution_count": 1,
   "id": "private-award",
   "metadata": {},
   "outputs": [],
   "source": [
    "import numpy as np\n",
    "import pickle\n",
    "import sklearn.decomposition\n",
    "import sklearn.manifold\n",
    "import sklearn.linear_model\n",
    "import matplotlib.pyplot as plt\n",
    "\n"
   ]
  },
  {
   "cell_type": "markdown",
   "id": "worse-arkansas",
   "metadata": {},
   "source": [
    "<b>Import data: </b>"
   ]
  },
  {
   "cell_type": "code",
   "execution_count": 3,
   "id": "streaming-transparency",
   "metadata": {},
   "outputs": [],
   "source": [
    "pkl_filename = \"features_labels.pkl\"\n",
    "features_labels = pickle.load(open(pkl_filename, 'rb'))\n",
    "\n",
    "features = features_labels[:,:4096] #everything but last column\n",
    "labels = features_labels[:,4096]"
   ]
  },
  {
   "cell_type": "markdown",
   "id": "interim-retailer",
   "metadata": {},
   "source": [
    "<b>Separate training and test data:</b>"
   ]
  },
  {
   "cell_type": "code",
   "execution_count": 6,
   "id": "adopted-ozone",
   "metadata": {},
   "outputs": [
    {
     "name": "stdout",
     "output_type": "stream",
     "text": [
      "testing samples:  (4390, 4096)\n",
      "training samples:  (17562, 4096)\n"
     ]
    }
   ],
   "source": [
    "num_samples = features.shape[0]\n",
    "\n",
    "test_idx = np.random.choice(range(num_samples), int(num_samples/5), replace=False) #take 1/5th of data for test data\n",
    "test_features = features[test_idx]\n",
    "test_labels = labels[test_idx]\n",
    "\n",
    "train_idx = [i for i in range(num_samples) if i not in test_idx]\n",
    "train_features = features[train_idx]\n",
    "train_labels = labels[train_idx]\n",
    "\n",
    "print ('testing samples: ',test_features.shape)\n",
    "print ('training samples: ',train_features.shape)\n"
   ]
  },
  {
   "cell_type": "markdown",
   "id": "periodic-culture",
   "metadata": {},
   "source": [
    "<b>Dimensionality reduction using Principal Component Analysis</b>"
   ]
  },
  {
   "cell_type": "code",
   "execution_count": 17,
   "id": "wound-jacket",
   "metadata": {},
   "outputs": [
    {
     "data": {
      "text/plain": [
       "<matplotlib.collections.PathCollection at 0x2b02b746940>"
      ]
     },
     "execution_count": 17,
     "metadata": {},
     "output_type": "execute_result"
    },
    {
     "data": {
      "image/png": "[encoded data removed]",
      "text/plain": [
       "<Figure size 432x288 with 1 Axes>"
      ]
     },
     "metadata": {
      "needs_background": "light"
     },
     "output_type": "display_data"
    }
   ],
   "source": [
    "PCA_2d = sklearn.decomposition.PCA(n_components=2).fit_transform(features) #only using PCA for the TSNE visualization\n",
    "plt.scatter(PCA_2d[:,0], PCA_2d[:,1])"
   ]
  },
  {
   "cell_type": "markdown",
   "id": "recorded-eclipse",
   "metadata": {},
   "source": [
    "<b>Visualizations using t-distributed stochastic neighbor embedding (TSNE)</b>"
   ]
  },
  {
   "cell_type": "code",
   "execution_count": 21,
   "id": "forced-omaha",
   "metadata": {},
   "outputs": [
    {
     "data": {
      "text/plain": [
       "<matplotlib.collections.PathCollection at 0x7feddab34790>"
      ]
     },
     "execution_count": 21,
     "metadata": {},
     "output_type": "execute_result"
    },
    {
     "data": {
      "image/png": "[encoded data removed]",
      "text/plain": [
       "<Figure size 432x288 with 1 Axes>"
      ]
     },
     "metadata": {
      "needs_background": "light"
     },
     "output_type": "display_data"
    }
   ],
   "source": [
    "n = 100 #can adjust this to improve visualization\n",
    "PCA_reduced = sklearn.decomposition.PCA(n_components=n).fit_transform(test_features) #reduced dimensionality for TSNE\n",
    "\n",
    "TSNE_embed = sklearn.manifold.TSNE(n_components=2, perplexity=300).fit_transform(PCA_reduced) #adjusting perplexity also can improve the visualization\n",
    "plt.scatter(TSNE_embed[:,0], TSNE_embed[:,1], c=test_labels)\n"
   ]
  },
  {
   "cell_type": "markdown",
   "id": "dying-snapshot",
   "metadata": {},
   "source": [
    "<b>Multi Dimensional Scaling (MDS) - wants to keep distances the same in new Low-D space</b>"
   ]
  },
  {
   "cell_type": "code",
   "execution_count": null,
   "id": "legitimate-armor",
   "metadata": {},
   "outputs": [],
   "source": [
    "#I haven't been able to get this way to visualize to work, but I don't think we need it if we do the TSNE\n",
    "\n",
    "#n = 10\n",
    "#PCA_reduced = sklearn.decomposition.PCA(n_components=n).fit_transform(test_features) #reduced dimensionality for computational reasons\n",
    "\n",
    "#MDS_embed = sklearn.manifold.MDS(n_components=2).fit_transform(PCA_reduced)\n",
    "#plt.scatter(MDS_embed[:,0], Mds_embed[:,1], c=test_labels)"
   ]
  },
  {
   "cell_type": "markdown",
   "id": "educational-practice",
   "metadata": {},
   "source": [
    "<b>Logistic regression on all features to determine best coefficients:</b>"
   ]
  },
  {
   "cell_type": "code",
   "execution_count": 16,
   "id": "radio-rental",
   "metadata": {},
   "outputs": [
    {
     "name": "stdout",
     "output_type": "stream",
     "text": [
      "Training validation score\n",
      "0.9999320051676073\n",
      "Testing validation score\n",
      "0.9972394755003451\n"
     ]
    }
   ],
   "source": [
    "X = features\n",
    "y = labels\n",
    "\n",
    "X_train, X_test, y_train, y_test = train_test_split(X, y, test_size=0.33, random_state=42)\n",
    "\n",
    "log_reg2 = sklearn.linear_model.LogisticRegressionCV(cv=5, Cs=[0.01, 0.1, 1, 10],\n",
    "                                                    max_iter=5000,\n",
    "                                                    penalty='l2', solver='liblinear',\n",
    "                                                    multi_class='ovr')\n",
    "\n",
    "log_reg2.fit(X_train,y_train) #this needs to be on a subset of new data for correct scores, here we use the test data\n",
    "\n",
    "log_reg2_training_validation_score = log_reg2.score(X_train,y_train) #getting the cross validation score\n",
    "\n",
    "print('Training validation score')\n",
    "print(log_reg2_training_validation_score)\n",
    "\n",
    "log_reg2_training_validation_score = log_reg2.score(X_test, y_test) #getting the cross validation score\n",
    "\n",
    "print('Testing validation score')\n",
    "print(log_reg2_training_validation_score)\n"
   ]
  },
  {
   "cell_type": "code",
   "execution_count": null,
   "id": "limited-premium",
   "metadata": {},
   "outputs": [],
   "source": [
    "\n",
    "log_reg = sklearn.linear_model.LogisticRegressionCV(cv=5, Cs=[0.01, 0.1, 1, 10], #trying to fine tune regularization parameter\n",
    "                                                    max_iter=5000,\n",
    "                                                    penalty='l2', solver='liblinear',\n",
    "                                                    multi_class='ovr')\n",
    "\n",
    "log_reg.fit(train_features, train_labels) #fitting logistic regression model to the training data\n",
    "# log_reg_valid_scores = log_reg.scores_\n",
    "log_reg_valid_score = log_reg.score(train_features, train_labels)\n",
    "\n",
    "print(log_reg_valid_score) #this will always be 1 since we are validating on the same data that we trained on"
   ]
  },
  {
   "cell_type": "markdown",
   "id": "outside-cleanup",
   "metadata": {},
   "source": [
    "<b>Choosing features based on best logistic regression coefficients:</b>"
   ]
  },
  {
   "cell_type": "code",
   "execution_count": 8,
   "id": "historic-format",
   "metadata": {},
   "outputs": [],
   "source": [
    "CV_coefficients = log_reg.coef_ #finding coefficients of the logistic regression equation (there will be a column of coeff for each feature fot each class, so a 5x4096 matrix)\n",
    "Sum_coef = np.sum(np.abs(CV_coefficients), axis=0) #summing the coeff by class to get 1x4096 \n",
    "Num_features = 20 #can change this to increase accuracy \n",
    "Lgst_coef_idx = Sum_coef.argsort()[-Num_features:] #select n features with largest overall coefficients "
   ]
  },
  {
   "cell_type": "markdown",
   "id": "configured-stanley",
   "metadata": {},
   "source": [
    "<b>Now that we have our largest coefficients, we retry a regression model on test data</b>"
   ]
  },
  {
   "cell_type": "code",
   "execution_count": 14,
   "id": "considered-hudson",
   "metadata": {},
   "outputs": [
    {
     "name": "stdout",
     "output_type": "stream",
     "text": [
      "Training validation score\n",
      "0.9945596735804149\n",
      "Testing validation score\n",
      "0.9875776397515528\n"
     ]
    }
   ],
   "source": [
    "from sklearn.model_selection import train_test_split\n",
    "X = test_features[:,Lgst_coef_idx]\n",
    "y = test_labels\n",
    "\n",
    "X_train, X_test, y_train, y_test = train_test_split(X, y, test_size=0.33, random_state=42)\n",
    "\n",
    "log_reg2 = sklearn.linear_model.LogisticRegressionCV(cv=5, Cs=[0.01, 0.1, 1, 10],\n",
    "                                                    max_iter=5000,\n",
    "                                                    penalty='l2', solver='liblinear',\n",
    "                                                    multi_class='ovr')\n",
    "\n",
    "log_reg2.fit(X_train,y_train) #this needs to be on a subset of new data for correct scores, here we use the test data\n",
    "\n",
    "log_reg2_training_validation_score = log_reg2.score(X_train,y_train) #getting the cross validation score\n",
    "\n",
    "print('Training validation score')\n",
    "print(log_reg2_training_validation_score)\n",
    "\n",
    "log_reg2_training_validation_score = log_reg2.score(X_test, y_test) #getting the cross validation score\n",
    "\n",
    "print('Testing validation score')\n",
    "print(log_reg2_training_validation_score)"
   ]
  },
  {
   "cell_type": "code",
   "execution_count": null,
   "id": "hispanic-rendering",
   "metadata": {},
   "outputs": [],
   "source": []
  }
 ],
 "metadata": {
  "kernelspec": {
   "display_name": "Python 3",
   "language": "python",
   "name": "python3"
  },
  "language_info": {
   "codemirror_mode": {
    "name": "ipython",
    "version": 3
   },
   "file_extension": ".py",
   "mimetype": "text/x-python",
   "name": "python",
   "nbconvert_exporter": "python",
   "pygments_lexer": "ipython3",
   "version": "3.8.8"
  }
 },
 "nbformat": 4,
 "nbformat_minor": 5
}
